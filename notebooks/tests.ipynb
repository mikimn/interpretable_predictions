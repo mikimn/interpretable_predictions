{
 "cells": [
  {
   "cell_type": "code",
   "execution_count": 134,
   "metadata": {},
   "outputs": [],
   "source": [
    "import numpy as np\n",
    "from matplotlib import pyplot as plt\n",
    "import ipywidgets as widgets\n",
    "import torch\n",
    "import sys\n",
    "sys.path.append('../')\n",
    "from latent_rationale.nn.kuma import Kuma, HardKuma\n",
    "\n"
   ]
  },
  {
   "cell_type": "code",
   "execution_count": 124,
   "metadata": {},
   "outputs": [],
   "source": [
    "a = widgets.FloatSlider(description='a =', min=0.01, max=10)\n",
    "b = widgets.FloatSlider(description='b =', min=0.01, max=10)"
   ]
  },
  {
   "cell_type": "code",
   "execution_count": 132,
   "metadata": {},
   "outputs": [
    {
     "name": "stdout",
     "output_type": "stream",
     "text": [
      "The autoreload extension is already loaded. To reload it, use:\n",
      "  %reload_ext autoreload\n"
     ]
    }
   ],
   "source": [
    "%matplotlib widget\n",
    "%matplotlib inline\n",
    "%load_ext autoreload\n",
    "%autoreload 2"
   ]
  },
  {
   "cell_type": "markdown",
   "metadata": {},
   "source": [
    "## Kumaraswamy DIstribution"
   ]
  },
  {
   "cell_type": "code",
   "execution_count": 127,
   "metadata": {},
   "outputs": [
    {
     "data": {
      "application/vnd.jupyter.widget-view+json": {
       "model_id": "7dac985f1c52400ca87ebbcc4a617912",
       "version_major": 2,
       "version_minor": 0
      },
      "text/plain": [
       "FloatSlider(value=0.01, description='a =', max=10.0, min=0.01)"
      ]
     },
     "metadata": {},
     "output_type": "display_data"
    },
    {
     "data": {
      "application/vnd.jupyter.widget-view+json": {
       "model_id": "7e47550e62c5473db0136c1b292db9f3",
       "version_major": 2,
       "version_minor": 0
      },
      "text/plain": [
       "FloatSlider(value=0.5, description='b =', max=10.0, min=0.01)"
      ]
     },
     "metadata": {},
     "output_type": "display_data"
    }
   ],
   "source": [
    "display(a, b)"
   ]
  },
  {
   "cell_type": "code",
   "execution_count": 152,
   "metadata": {},
   "outputs": [
    {
     "name": "stdout",
     "output_type": "stream",
     "text": [
      "tensor([0.0426])\n"
     ]
    }
   ],
   "source": [
    "dist = HardKuma([torch.tensor(a.value), torch.tensor(b.value)], support=(-0.1, 1.1))\n",
    "print(dist.pdf(0.0))\n",
    "\n",
    "\n",
    "def plot(dist):\n",
    "    x = np.linspace(-0.1, 1.1)\n",
    "    p = dist.pdf(torch.from_numpy(x).float())\n",
    "    print(p)\n",
    "    plt.plot(x, p)\n",
    "    plt.title(f'{dist.__class__.__name__}(a={a.value}, b={b.value}) PDF')\n"
   ]
  },
  {
   "cell_type": "code",
   "execution_count": 150,
   "metadata": {},
   "outputs": [
    {
     "name": "stdout",
     "output_type": "stream",
     "text": [
      "tensor([0.2887, 0.2887, 0.2887, 0.2887, 0.2887, 0.4397, 0.4448, 0.4501, 0.4555,\n",
      "        0.4612, 0.4670, 0.4731, 0.4795, 0.4861, 0.4930, 0.5002, 0.5077, 0.5156,\n",
      "        0.5238, 0.5325, 0.5416, 0.5512, 0.5613, 0.5720, 0.5833, 0.5954, 0.6082,\n",
      "        0.6218, 0.6365, 0.6522, 0.6691, 0.6875, 0.7074, 0.7292, 0.7531, 0.7795,\n",
      "        0.8089, 0.8420, 0.8794, 0.9223, 0.9722, 1.0312, 1.1024, 1.1907, 1.3044,\n",
      "        0.2887, 0.2887, 0.2887, 0.2887, 0.2887])\n",
      "tensor([   nan,    nan,    nan,    nan,    nan, 0.5057, 0.5122, 0.5189, 0.5259,\n",
      "        0.5331, 0.5407, 0.5486, 0.5569, 0.5655, 0.5746, 0.5841, 0.5942, 0.6047,\n",
      "        0.6158, 0.6276, 0.6401, 0.6533, 0.6674, 0.6825, 0.6986, 0.7159, 0.7346,\n",
      "        0.7548, 0.7768, 0.8009, 0.8273, 0.8565, 0.8890, 0.9256, 0.9670, 1.0146,\n",
      "        1.0700, 1.1356, 1.2149, 1.3135, 1.4409, 1.6144, 1.8708, 2.3078, 3.3372,\n",
      "           nan,    nan,    nan,    nan,    nan])\n"
     ]
    },
    {
     "data": {
      "image/png": "[encoded data removed]",
      "text/plain": [
       "<Figure size 432x288 with 1 Axes>"
      ]
     },
     "metadata": {
      "needs_background": "light"
     },
     "output_type": "display_data"
    }
   ],
   "source": [
    "plot(HardKuma([torch.tensor(a.value), torch.tensor(b.value)], support=(-0.1, 1.1)))\n",
    "plot(Kuma([torch.tensor(a.value), torch.tensor(b.value)]))"
   ]
  },
  {
   "cell_type": "code",
   "execution_count": null,
   "metadata": {},
   "outputs": [],
   "source": []
  },
  {
   "cell_type": "code",
   "execution_count": null,
   "metadata": {},
   "outputs": [],
   "source": []
  }
 ],
 "metadata": {
  "kernelspec": {
   "display_name": "venv",
   "language": "python",
   "name": "venv"
  },
  "language_info": {
   "codemirror_mode": {
    "name": "ipython",
    "version": 3
   },
   "file_extension": ".py",
   "mimetype": "text/x-python",
   "name": "python",
   "nbconvert_exporter": "python",
   "pygments_lexer": "ipython3",
   "version": "3.7.4"
  }
 },
 "nbformat": 4,
 "nbformat_minor": 4
}

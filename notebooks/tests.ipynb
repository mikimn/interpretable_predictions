{
 "cells": [
  {
   "cell_type": "code",
   "execution_count": 66,
   "metadata": {},
   "outputs": [],
   "source": [
    "import numpy as np\n",
    "from matplotlib import pyplot as plt\n",
    "import ipywidgets as widgets\n",
    "import torch\n",
    "import sys\n",
    "sys.path.append('../')\n",
    "from latent_rationale.nn.kuma import Kuma, HardKuma\n",
    "\n",
    "a = widgets.FloatSlider(description='a =', min=0.01, max=10)\n",
    "b = widgets.FloatSlider(description='b =', min=0.01, max=10)"
   ]
  },
  {
   "cell_type": "code",
   "execution_count": 67,
   "metadata": {},
   "outputs": [],
   "source": [
    "%matplotlib widget\n",
    "%matplotlib inline"
   ]
  },
  {
   "cell_type": "markdown",
   "metadata": {},
   "source": [
    "## Kumaraswamy DIstribution"
   ]
  },
  {
   "cell_type": "code",
   "execution_count": 68,
   "metadata": {},
   "outputs": [
    {
     "data": {
      "application/vnd.jupyter.widget-view+json": {
       "model_id": "f239052929484964bf421e1402cadcd4",
       "version_major": 2,
       "version_minor": 0
      },
      "text/plain": [
       "FloatSlider(value=0.01, description='a =', max=10.0, min=0.01)"
      ]
     },
     "metadata": {},
     "output_type": "display_data"
    },
    {
     "data": {
      "application/vnd.jupyter.widget-view+json": {
       "model_id": "79056f1418904155930ae7717e75693d",
       "version_major": 2,
       "version_minor": 0
      },
      "text/plain": [
       "FloatSlider(value=0.01, description='b =', max=10.0, min=0.01)"
      ]
     },
     "metadata": {},
     "output_type": "display_data"
    }
   ],
   "source": [
    "display(a, b)"
   ]
  },
  {
   "cell_type": "code",
   "execution_count": 78,
   "metadata": {},
   "outputs": [
    {
     "data": {
      "text/plain": [
       "tensor([0.5917])"
      ]
     },
     "execution_count": 78,
     "metadata": {},
     "output_type": "execute_result"
    }
   ],
   "source": [
    "Kuma([torch.tensor(a.value), torch.tensor(b.value)]).pdf(0.4)"
   ]
  },
  {
   "cell_type": "code",
   "execution_count": 87,
   "metadata": {},
   "outputs": [
    {
     "name": "stdout",
     "output_type": "stream",
     "text": [
      "tensor([0.0000e+00, 1.7728e-04, 7.6534e-04, 1.8007e-03, 3.3049e-03, 5.2939e-03,\n",
      "        7.7815e-03, 1.0780e-02, 1.4302e-02, 1.8361e-02, 2.2968e-02, 2.8139e-02,\n",
      "        3.3891e-02, 4.0241e-02, 4.7211e-02, 5.4824e-02, 6.3108e-02, 7.2096e-02,\n",
      "        8.1823e-02, 9.2331e-02, 1.0367e-01, 1.1590e-01, 1.2908e-01, 1.4329e-01,\n",
      "        1.5862e-01, 1.7518e-01, 1.9308e-01, 2.1248e-01, 2.3354e-01, 2.5647e-01,\n",
      "        2.8152e-01, 3.0899e-01, 3.3925e-01, 3.7276e-01, 4.1008e-01, 4.5194e-01,\n",
      "        4.9927e-01, 5.5329e-01, 6.1566e-01, 6.8862e-01, 7.7536e-01, 8.8057e-01,\n",
      "        1.0114e+00, 1.1795e+00, 1.4050e+00, 1.7267e+00, 2.2310e+00, 3.1610e+00,\n",
      "        5.6166e+00,        nan])\n"
     ]
    },
    {
     "data": {
      "image/png": "[encoded data removed]",
      "text/plain": [
       "<Figure size 432x288 with 1 Axes>"
      ]
     },
     "metadata": {
      "needs_background": "light"
     },
     "output_type": "display_data"
    }
   ],
   "source": [
    "def sample(x):\n",
    "    return Kuma([torch.tensor(a.value), torch.tensor(b.value)]).pdf(torch.from_numpy(x).float())\n",
    "\n",
    "\n",
    "x = np.linspace(0.0, 1.0)\n",
    "p = sample(x)\n",
    "print(p)\n",
    "plt.plot(x, p)\n",
    "plt.show()\n"
   ]
  },
  {
   "cell_type": "code",
   "execution_count": null,
   "metadata": {},
   "outputs": [],
   "source": []
  },
  {
   "cell_type": "code",
   "execution_count": null,
   "metadata": {},
   "outputs": [],
   "source": []
  }
 ],
 "metadata": {
  "kernelspec": {
   "display_name": "venv",
   "language": "python",
   "name": "venv"
  },
  "language_info": {
   "codemirror_mode": {
    "name": "ipython",
    "version": 3
   },
   "file_extension": ".py",
   "mimetype": "text/x-python",
   "name": "python",
   "nbconvert_exporter": "python",
   "pygments_lexer": "ipython3",
   "version": "3.7.4"
  }
 },
 "nbformat": 4,
 "nbformat_minor": 4
}
